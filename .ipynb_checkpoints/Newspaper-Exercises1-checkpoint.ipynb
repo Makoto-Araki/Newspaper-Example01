{
 "cells": [
  {
   "cell_type": "code",
   "execution_count": 1,
   "metadata": {},
   "outputs": [],
   "source": [
    "# ライブラリのインポート\n",
    "from newspaper import Article\n",
    "\n",
    "# 英語のニュースサイトの記事のURL\n",
    "url = 'https://edition.cnn.com/2022/09/13/investing/premarket-stocks-trading'\n",
    "article = Article(url)\n",
    "\n",
    "# 記事の取得と解析\n",
    "article.download()\n",
    "article.parse()"
   ]
  },
  {
   "cell_type": "code",
   "execution_count": 2,
   "metadata": {},
   "outputs": [
    {
     "data": {
      "text/plain": [
       "datetime.datetime(2022, 9, 13, 0, 0)"
      ]
     },
     "execution_count": 2,
     "metadata": {},
     "output_type": "execute_result"
    }
   ],
   "source": [
    "# 記事の発行日時\n",
    "article.publish_date"
   ]
  },
  {
   "cell_type": "code",
   "execution_count": 3,
   "metadata": {},
   "outputs": [
    {
     "data": {
      "text/plain": [
       "['Nicole Goodkind', 'Cnn Business']"
      ]
     },
     "execution_count": 3,
     "metadata": {},
     "output_type": "execute_result"
    }
   ],
   "source": [
    "# 記事の作成者\n",
    "article.authors"
   ]
  },
  {
   "cell_type": "code",
   "execution_count": 4,
   "metadata": {},
   "outputs": [
    {
     "data": {
      "text/plain": [
       "'A version of this story first appeared in CNN Business\\' Before the Bell newsletter. Not a subscriber? You can sign up right here . You can listen to an audio version of the newsletter by clicking the same link.\\n\\nNew York (CNN Business) Federal Reserve Chairman Jerome Powell has a big problem, and he can\\'t do anything about it.\\n\\nGasoline prices in the United States, which have fallen for 91 consecutive days, are expected to have driven a slight decline in prices in August compared to July, according to analyst estimates for inflation data scheduled for release Tuesday.\\n\\nThat\\'s good news for cash-strapped consumers. But a drop in prices isn\\'t causing everyone on Wall Street to cheer. Some are starting to use the \"D\" word: deflation, another form of price instability that\\'s bad for the economy.\\n\\nWhat\\'s happening: The headline number for the Consumer Price Index, a closely-watched inflation gauge, is expected to show that prices actually declined by 0.1% between July and August. (Forecasts still show an 8.1% increase over the past 12 months.)\\n\\nThat might sound like a good thing. But to some, it\\'s cause for concern.\\n\\nFalling prices can indicate weak demand, and consumer spending is a big portion of the economy. Markets are skittish that the Fed\\'s actions — which take a while to feed through the system — could overshoot, sending the US economy into a prolonged and deep recession.\\n\\nDeflation can prompt the opposite of what we\\'ve seen recently — a downward spiral in jobs and wages as companies cut back production and lay off staff.\\n\\nTesla TSLA Two big names on Wall Street have sounded alarm.CEO Elon Musk, seemingly tired of his tirades against Twitter, turned to the subject of the central bank, tweeting that \"a major Fed rate hike risks deflation.\"\\n\\nMusk\\'s tweet came after Ark Invest CEO Cathie Wood also warned about deflation on Wednesday. \"The Fed is basing monetary policy decisions on lagging indicators: employment and core inflation,\" she said.\\n\\nWhat the market should remember: \"Headline inflation\" is called just that because it\\'s the measurement most commonly reported in the media and most familiar to Americans.\\n\\nBut the Fed doesn\\'t look at that number when determining monetary policy — it uses core inflation, which doesn\\'t include food or energy. That metric is expected to increase by 0.3% between July and August, according to Refinitiv. In fact, Powell has said repeatedly that energy prices are not something the Fed can control.\\n\\n\"I think a lot of investors react to headlines or the first paragraph of a story without really getting into the details, and there\\'s a lot of strong movement around the Fed. My strong suspicion is that most investors have never even watched a full [Federal Reserve] press conference,\" Luke Tilley, chief economist at Wilmington Trust, told me.\\n\\nAnd what of Musk and Wood\\'s proclamations on Twitter?\\n\\n\"They\\'re talking their books,\" Vincent Reinhart, chief economist of Dreyfus-Mellon, told me. If you\\'re a mega equity investor like Elon Musk, you\\'re going to want the Fed to stop hiking.\\n\\nReinhart says he\\'s worried about the narrative for another reason. If market participants are wrongly led to believe that the Fed won\\'t tighten that much, then hikes are going to be very disruptive.\\n\\n\"The problem with Musk and Wood speaking this way is that they have a broader reach into society than the people who focus on central banks,\" he said. \"There\\'s a worry that other views will permeate, and they\\'re views that aren\\'t helpful.\"\\n\\nThe bottom line: Inflation is still near historical highs, and nearly a dozen Fed officials were united in their message last week that rate hikes will continue into the foreseeable future. Core and headline inflation are still much higher year-over-year, and monthly trends are often just noise.\\n\\nFinancial institutions address gun violence\\n\\nThe US credit card industry is taking long-sought action on illegal gun sales.\\n\\nAmerican Express AXP , Mastercard and Visa have announced that they will adopt a new merchant category code for the nation\\'s gun retailers, reports my colleague Ramishah Maruf.\\n\\nThe system will separately categorize sales at gun and ammunition stores, which can help track suspicious transactions of firearms and ammunition. Gun control activists say the change will help flag potential mass shooters and gun traffickers.\\n\\nThe International Organization for Standardization, based in Geneva, approved the code on Friday. Nearly every retail item has a merchant category code — but prior to Friday\\'s decision by the ISO, gun store sales were classified under a general merchandise or sporting goods category.\\n\\nThe proposal was first suggested by DealBook\\'s Andrew Ross Sorkin in 2018 following the Parkland shooting.\\n\\nVisa V Mastercard MA andinitially resisted the creation of the code, even though some of their own executives spoke in favor of it. Visa said at the time that it didn\\'t see itself as a \"moral authority.\"\\n\\nVisa reversed course last week. In a statement on Sunday the world\\'s largest payment network said it will \"proceed with next steps while ensuring we protect all legal commerce on the Visa network in accordance with our long-standing rules.\"\\n\\nThere have been 479 mass shootings in the US so far in 2022, according to Gun Violence Archive, a nonprofit research group.\\n\\nBurger King wants to reign again\\n\\nIt\\'s been a tough few years for Burger King, reports my colleague Danielle Wiener-Bronner\\n\\nThe company is playing a game of catchup against its competitors after missteps made during the pandemic caused it to lag behind other Fast Food kingdoms.\\n\\nAt the height of Covid-related closures, restaurants slimmed down menus and simplified their online ordering systems to meet greater demand. Burger King didn\\'t do that.\\n\\nRestaurant Brands International QSR Burger King, which is owned by, admits as much. \"We, in fact, complicated things,\" RBI CEO Jose Cil told CNN Business, \"we added menu items ... that were more difficult and not necessarily intuitive and typical for us to serve.\"\\n\\nIn the second quarter of this year, sales at Burger King US restaurants open at least 13 months grew by just 0.4%. Sales at McDonald\\'s US restaurants open at least 13 months jumped 3.7% in that period.\\n\\nBut there\\'s a turnaround plan: Burger King plans to remodel about 800 restaurants over the next two years. The fast food chain says it will invest $400 million in improving the brand — $250 million will go toward updating restaurant tech, kitchens and remodeling, and $150 million to advertising and digital products. Franchisees will also invest in improving the brand.\\n\\nUp next\\n\\nAugust US Consumer Price Index is released at 8:30 a.m. ET.\\n\\nAlso today →\\n\\nStarbucks SBUX investor day\\n\\nTwitter TWTR shareholder meeting to vote on Elon Musk acquisition\\n\\nCorrection: An earlier version of this story misstated the number of days gas prices have fallen in the United States. Tuesday marked the 91st day in a row that prices fell.'"
      ]
     },
     "execution_count": 4,
     "metadata": {},
     "output_type": "execute_result"
    }
   ],
   "source": [
    "# 記事の全文\n",
    "article.text"
   ]
  },
  {
   "cell_type": "code",
   "execution_count": 5,
   "metadata": {},
   "outputs": [
    {
     "name": "stderr",
     "output_type": "stream",
     "text": [
      "[nltk_data] Downloading package punkt to\n",
      "[nltk_data]     C:\\Users\\Owner\\AppData\\Roaming\\nltk_data...\n",
      "[nltk_data]   Package punkt is already up-to-date!\n"
     ]
    },
    {
     "data": {
      "text/plain": [
       "True"
      ]
     },
     "execution_count": 5,
     "metadata": {},
     "output_type": "execute_result"
    }
   ],
   "source": [
    "# ライブラリのインポート\n",
    "import nltk\n",
    "nltk.download('punkt')"
   ]
  },
  {
   "cell_type": "code",
   "execution_count": 6,
   "metadata": {},
   "outputs": [],
   "source": [
    "# 自然言語処理を実行\n",
    "article.nlp()"
   ]
  },
  {
   "cell_type": "code",
   "execution_count": 7,
   "metadata": {},
   "outputs": [
    {
     "data": {
      "text/plain": [
       "['burger',\n",
       " 'prices',\n",
       " 'king',\n",
       " 'fed',\n",
       " 'musk',\n",
       " 'code',\n",
       " 'fighting',\n",
       " 'sales',\n",
       " 'inflation',\n",
       " 'gun',\n",
       " 'restaurants',\n",
       " 'deflation',\n",
       " 'battle']"
      ]
     },
     "execution_count": 7,
     "metadata": {},
     "output_type": "execute_result"
    }
   ],
   "source": [
    "# キーワードを確認\n",
    "article.keywords"
   ]
  },
  {
   "cell_type": "code",
   "execution_count": 8,
   "metadata": {},
   "outputs": [
    {
     "data": {
      "text/plain": [
       "\"But the Fed doesn't look at that number when determining monetary policy — it uses core inflation, which doesn't include food or energy.\\nFinancial institutions address gun violenceThe US credit card industry is taking long-sought action on illegal gun sales.\\nBurger King wants to reign againIt's been a tough few years for Burger King, reports my colleague Danielle Wiener-BronnerThe company is playing a game of catchup against its competitors after missteps made during the pandemic caused it to lag behind other Fast Food kingdoms.\\nRestaurant Brands International QSR Burger King, which is owned by, admits as much.\\nBut there's a turnaround plan: Burger King plans to remodel about 800 restaurants over the next two years.\""
      ]
     },
     "execution_count": 8,
     "metadata": {},
     "output_type": "execute_result"
    }
   ],
   "source": [
    "# サマリーを確認\n",
    "article.summary"
   ]
  },
  {
   "cell_type": "code",
   "execution_count": null,
   "metadata": {},
   "outputs": [],
   "source": []
  }
 ],
 "metadata": {
  "kernelspec": {
   "display_name": "Python 3",
   "language": "python",
   "name": "python3"
  },
  "language_info": {
   "codemirror_mode": {
    "name": "ipython",
    "version": 3
   },
   "file_extension": ".py",
   "mimetype": "text/x-python",
   "name": "python",
   "nbconvert_exporter": "python",
   "pygments_lexer": "ipython3",
   "version": "3.8.3"
  }
 },
 "nbformat": 4,
 "nbformat_minor": 4
}
